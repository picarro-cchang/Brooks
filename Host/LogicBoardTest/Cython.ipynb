{
 "metadata": {
  "name": "Cython"
 },
 "nbformat": 3,
 "nbformat_minor": 0,
 "worksheets": [
  {
   "cells": [
    {
     "cell_type": "code",
     "collapsed": false,
     "input": [
      "%%file hello.pyx\n",
      "\n",
      "def say_hello_to(name):\n",
      "    print (\"Hello %s!\" % name)"
     ],
     "language": "python",
     "metadata": {},
     "outputs": [
      {
       "output_type": "stream",
       "stream": "stdout",
       "text": [
        "Overwriting hello.pyx\n"
       ]
      }
     ],
     "prompt_number": 4
    },
    {
     "cell_type": "code",
     "collapsed": false,
     "input": [
      "!python setup.py build_ext --inplace -c mingw32"
     ],
     "language": "python",
     "metadata": {},
     "outputs": [
      {
       "output_type": "stream",
       "stream": "stdout",
       "text": [
        "running build_ext\n",
        "cythoning hello.pyx to hello.c\n",
        "building 'hello' extension\n",
        "C:\\MinGW32-xy\\bin\\gcc.exe -mno-cygwin -mdll -O -Wall -IC:\\Python27\\include -IC:\\VirtualEnv\\ipython\\PC -c hello.c -o build\\temp.win32-2.7\\Release\\hello.o\n",
        "writing build\\temp.win32-2.7\\Release\\hello.def\n",
        "C:\\MinGW32-xy\\bin\\gcc.exe -mno-cygwin -shared -s build\\temp.win32-2.7\\Release\\hello.o build\\temp.win32-2.7\\Release\\hello.def -LC:\\Python27\\Libs -LC:\\VirtualEnv\\ipython\\libs -LC:\\VirtualEnv\\ipython\\PCbuild -lpython27 -lmsvcr90 -o C:\\Picarro\\G2000\\Host\\LogicBoardTest\\hello.pyd\n"
       ]
      },
      {
       "output_type": "stream",
       "stream": "stderr",
       "text": [
        "c:/mingw32-xy/bin/../lib/gcc/mingw32/4.5.2/../../../../mingw32/bin/ld.exe: cannot open output file C:\\Picarro\\G2000\\Host\\LogicBoardTest\\hello.pyd: Permission denied\n",
        "collect2: ld returned 1 exit status\n",
        "error: command 'gcc' failed with exit status 1\n"
       ]
      }
     ],
     "prompt_number": 5
    },
    {
     "cell_type": "code",
     "collapsed": false,
     "input": [
      "from hello import say_hello_to\n",
      "say_hello_to(\"world\")"
     ],
     "language": "python",
     "metadata": {},
     "outputs": [
      {
       "output_type": "stream",
       "stream": "stdout",
       "text": [
        "Hello world!\n"
       ]
      }
     ],
     "prompt_number": 6
    },
    {
     "cell_type": "code",
     "collapsed": false,
     "input": [],
     "language": "python",
     "metadata": {},
     "outputs": [],
     "prompt_number": 6
    }
   ],
   "metadata": {}
  }
 ]
}