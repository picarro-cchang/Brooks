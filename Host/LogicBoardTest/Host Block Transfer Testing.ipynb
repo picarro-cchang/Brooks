{
 "metadata": {
  "name": "Host Block Transfer Testing"
 },
 "nbformat": 3,
 "nbformat_minor": 0,
 "worksheets": [
  {
   "cells": [
    {
     "cell_type": "markdown",
     "metadata": {},
     "source": [
      "## Logic Board Testing\n",
      "\n",
      "`BoardTest1.ini` specifies path to executables"
     ]
    },
    {
     "cell_type": "code",
     "collapsed": false,
     "input": [
      "import time\n",
      "from Host.LogicBoardTest import BoardTest2 as bt\n",
      "SDRAM_BASE = 0x80000000\n",
      "OFFSET = 0x1000000\n",
      "configFile = \"BoardTest1.ini\"\n",
      "d = bt.BoardTest2(configFile)\n",
      "v = True # Verbosity level\n",
      "d.initLb(v)\n",
      "d.checkMagicCode(v)\n",
      "d.loadDspCode(d.dspFile)\n",
      "print \"DSP Code loaded\""
     ],
     "language": "python",
     "metadata": {},
     "outputs": [
      {
       "output_type": "stream",
       "stream": "stdout",
       "text": [
        "Detected a programmed Picarro USB interface\n",
        "USB enumerated at high speed\n",
        "Holding DSP in reset while programming FPGA\n",
        "Fpga status: 0\n",
        "FPGA programming done"
       ]
      },
      {
       "output_type": "stream",
       "stream": "stdout",
       "text": [
        "\n",
        "Bytes sent: 402936\n",
        "Time to load FPGA: 4.3s\n",
        "Removed DSP reset, allowing EDMA access to DSP memory space"
       ]
      },
      {
       "output_type": "stream",
       "stream": "stdout",
       "text": [
        "\n",
        "Magic code: c0de0001\n",
        "DSP Code loaded"
       ]
      },
      {
       "output_type": "stream",
       "stream": "stdout",
       "text": [
        "\n"
       ]
      }
     ],
     "prompt_number": 11
    },
    {
     "cell_type": "code",
     "collapsed": false,
     "input": [
      "from ctypes import c_uint, c_char, addressof\n",
      "print \"%x\" % d.sender.rdRegUint(\"NOOP_REGISTER\")\n",
      "print \"%x\" % d.sender.rdRegUint(\"VERIFY_INIT_REGISTER\")"
     ],
     "language": "python",
     "metadata": {},
     "outputs": [
      {
       "output_type": "stream",
       "stream": "stdout",
       "text": [
        "abcd1234\n",
        "19680511\n"
       ]
      }
     ],
     "prompt_number": 12
    },
    {
     "cell_type": "code",
     "collapsed": false,
     "input": [
      "from ctypes import c_uint\n",
      "# Offsets are in units of 32-bit words, not bytes\n",
      "offset = bt.lookup(\"NEXT_AVAILABLE_OFFSET\")\n",
      "data = (c_uint*8)(1,2,3,4,5,6,7,8)\n",
      "d.sender.wrBlock(offset,*data)\n",
      "print d.sender.rdBlock(offset,8)"
     ],
     "language": "python",
     "metadata": {},
     "outputs": [
      {
       "output_type": "stream",
       "stream": "stdout",
       "text": [
        "[1L, 2L, 3L, 4L, 5L, 6L, 7L, 8L]\n"
       ]
      }
     ],
     "prompt_number": 13
    },
    {
     "cell_type": "code",
     "collapsed": false,
     "input": [
      "nbytes = 1008\n",
      "assert nbytes%4 == 0\n",
      "nint = nbytes//4\n",
      "Block = c_char * nbytes\n",
      "UBlock = c_uint * nint\n",
      "nIter = 64\n",
      "start = time.clock()\n",
      "for i in range(nIter):\n",
      "    orig = np.random.bytes(nbytes)\n",
      "    bdata = Block(*orig)\n",
      "    data = UBlock.from_address(addressof(bdata))\n",
      "    offset = bt.lookup(\"NEXT_AVAILABLE_OFFSET\")\n",
      "    d.sender.wrBlock(offset,*data)\n",
      "    result = d.sender.rdBlock(offset,nint)\n",
      "    assert list(data) == result\n",
      "stop = time.clock()|\n",
      "print \"Processing time per byte: \", (stop-start)/(nIter*nbytes) "
     ],
     "language": "python",
     "metadata": {},
     "outputs": [
      {
       "output_type": "stream",
       "stream": "stdout",
       "text": [
        "Processing time per byte:  1.00554969642e-05\n"
       ]
      }
     ],
     "prompt_number": 10
    },
    {
     "cell_type": "markdown",
     "metadata": {},
     "source": [
      "## Time for a USB Control Out Transaction\n",
      "\n",
      "We here measure the time to perform a control out transaction on the USB, since these are needed to specify the length of a DSP to host transfer. We shall perform the VENDOR_SET_HPID_IN_BYTES repeatedly\n",
      "\n"
     ]
    },
    {
     "cell_type": "code",
     "collapsed": false,
     "input": [
      "from Host.autogen import usbdefs\n",
      "from ctypes import c_uint, c_short, c_ubyte, c_byte\n",
      "import time"
     ],
     "language": "python",
     "metadata": {},
     "outputs": [],
     "prompt_number": 14
    },
    {
     "cell_type": "code",
     "collapsed": false,
     "input": [
      "%%prun\n",
      "data = c_short(4)\n",
      "nIter = 100\n",
      "start = time.clock()\n",
      "def myfunc():\n",
      "    for i in range(nIter):\n",
      "        d.analyzerUsb.controlOutTransaction(data,usbdefs.VENDOR_SET_HPID_IN_BYTES)\n",
      "d.analyzerUsb._claimInterfaceWrapper(myfunc)\n",
      "\n",
      "stop = time.clock()\n",
      "print \"Time per call %.1f us\" % (1e6*float(stop-start)/nIter,)"
     ],
     "language": "python",
     "metadata": {},
     "outputs": [
      {
       "output_type": "stream",
       "stream": "stdout",
       "text": [
        "Time per call 270.0 us\n",
        "\n"
       ]
      }
     ],
     "prompt_number": 17
    },
    {
     "cell_type": "markdown",
     "metadata": {},
     "source": [
      "The time for each controlOutTransaction call is about 270us."
     ]
    },
    {
     "cell_type": "code",
     "collapsed": false,
     "input": [
      "from ctypes import byref, sizeof\n",
      "sm = sizeof(data)\n",
      "print d.analyzerUsb.usb.usbControlMsg(d.analyzerUsb.handle,0x40,usbdefs.VENDOR_SET_HPID_IN_BYTES,0,0,byref(data),sm,1000)"
     ],
     "language": "python",
     "metadata": {},
     "outputs": [
      {
       "output_type": "stream",
       "stream": "stdout",
       "text": [
        "2\n"
       ]
      }
     ],
     "prompt_number": 16
    },
    {
     "cell_type": "code",
     "collapsed": false,
     "input": [
      "#from Host.Common.analyzerUsbIf  import AnalyzerUsb\n",
      "\n",
      "#usbSpeed = d.startUsb(d.usbFile)\n",
      "#d.analyzerUsb.loadHexFile(file(d.usbFile,\"r\"))\n",
      "#d.analyzerUsb.disconnect()\n",
      "#d.analyzerUsb = AnalyzerUsb(usbdefs.INSTRUMENT_VID,usbdefs.INSTRUMENT_PID)\n",
      "#d.analyzerUsb.connect()\n",
      "#usbSpeed = d.analyzerUsb.getUsbSpeed()\n",
      "\n",
      "assert d.analyzerUsb\n",
      "print \"Holding DSP in reset while programming FPGA\"\n",
      "d.analyzerUsb.setDspControl(usbdefs.VENDOR_DSP_CONTROL_RESET)\n",
      "d.programFPGA(d.fpgaFile)\n",
      "# The following lines are equivalent to:\n",
      "#  d.analyzerUsb.setDspControl(0)\n",
      "data = c_ubyte(0)\n",
      "d.analyzerUsb.controlInTransaction(data,usbdefs.VENDOR_DSP_CONTROL)\n",
      "data = c_uint(16)\n",
      "d.analyzerUsb.controlOutTransaction(data,usbdefs.VENDOR_SET_HPID_IN_BYTES)"
     ],
     "language": "python",
     "metadata": {},
     "outputs": [
      {
       "output_type": "stream",
       "stream": "stdout",
       "text": [
        "USB enumerated at full speed\n",
        "Holding DSP in reset while programming FPGA\n",
        "Fpga status: 1\n",
        "FPGA programming done"
       ]
      },
      {
       "output_type": "stream",
       "stream": "stdout",
       "text": [
        "\n",
        "Bytes sent: 402936\n",
        "Time to load FPGA: 4.3s\n"
       ]
      }
     ],
     "prompt_number": 108
    },
    {
     "cell_type": "code",
     "collapsed": false,
     "input": [
      "print d.analyzerUsb.interfaceClaimed"
     ],
     "language": "python",
     "metadata": {},
     "outputs": [
      {
       "output_type": "stream",
       "stream": "stdout",
       "text": [
        "True\n"
       ]
      }
     ],
     "prompt_number": 30
    }
   ],
   "metadata": {}
  }
 ]
}