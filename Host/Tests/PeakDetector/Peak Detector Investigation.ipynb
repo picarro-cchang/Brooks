{
 "metadata": {
  "name": "Peak Detector Investigation"
 },
 "nbformat": 3,
 "nbformat_minor": 0,
 "worksheets": [
  {
   "cells": [
    {
     "cell_type": "code",
     "collapsed": false,
     "input": [
      "import sys\n",
      "import IPython\n",
      "sizex = 12; sizey = 6;\n",
      "IPython.core.pylabtools.figsize(sizex, sizey)\n",
      "sys.path.append('./build/lib.win32-2.7')\n",
      "import peakDetect\n",
      "x = peakDetect.peakDetectCntrlInit()"
     ],
     "language": "python",
     "metadata": {},
     "outputs": [],
     "prompt_number": 1
    },
    {
     "cell_type": "code",
     "collapsed": false,
     "input": [
      "# Examining the peakDetectCntrl object\n",
      "for a in dir(peakDetect.cvar.peakDetectCntrl):\n",
      "    if not a.startswith('__'):\n",
      "        print a, getattr(peakDetect.cvar.peakDetectCntrl,a)"
     ],
     "language": "python",
     "metadata": {},
     "outputs": [
      {
       "output_type": "stream",
       "stream": "stdout",
       "text": [
        "activeLength 0\n",
        "activeSize 300\n",
        "armedValveMaskAndValue 4864\n",
        "background 1.0\n",
        "backgroundSamples 200\n",
        "cancellingDelay 25\n",
        "cancellingValveMaskAndValue 4880\n",
        "cond0 0\n",
        "cond1 0\n",
        "cond2 0\n",
        "cond3 0\n",
        "flow0Setpoint 400.0\n",
        "flow1Setpoint 400.0\n",
        "flow2Setpoint 400.0\n",
        "flow3Setpoint 400.0\n",
        "flowCntrlSetpoint 100.0\n",
        "historyBuffer _9c04216b_p_float\n",
        "historyTail 0\n",
        "idleValveMaskAndValue 0\n",
        "inactiveValveMaskAndValue 4880\n",
        "injectionPendingValveMaskAndValue 4880\n",
        "lastState 0\n",
        "lowerThreshold1 0.15000000596\n",
        "lowerThreshold2 0.15000000596\n",
        "postPeakSamples 100\n",
        "primingDuration 100\n",
        "primingValveMaskAndValue 7956\n",
        "processedLoss 500.0\n",
        "purgingDuration 100\n",
        "purgingValveMaskAndValue 7952\n",
        "resetDelay 2700\n",
        "samplesLeft 0\n",
        "solenoidValves 0\n",
        "state 0\n",
        "this _0004216b_p_PEAK_DETECT_CNTRL\n",
        "triggerCondition 43008\n",
        "triggerDelay 0\n",
        "triggerPendingValveMaskAndValue 4864\n",
        "triggerWait 0\n",
        "triggeredValveMaskAndValue 4867\n",
        "upperThreshold 0.300000011921\n"
       ]
      }
     ],
     "prompt_number": 2
    },
    {
     "cell_type": "code",
     "collapsed": false,
     "input": [
      "# See if the background updates correctly\n",
      "x = peakDetect.peakDetectCntrlInit()\n",
      "peakDetect.cvar.peakDetectCntrl.backgroundSamples = 100\n",
      "for iter in range(2):\n",
      "    peakDetect.cvar.peakDetectCntrl.postPeakSamples = 40\n",
      "    peakDetect.cvar.peakDetectCntrl.state = peakDetect.PEAK_DETECT_CNTRL_ArmedState\n",
      "    peakDetect.cvar.peakDetectCntrl.triggerCondition = 0xA800\n",
      "    peakDetect.cvar.peakDetectCntrl.upperThreshold = 0.3\n",
      "    peakDetect.cvar.peakDetectCntrl.lowerThreshold1 = 0.1\n",
      "    peakDetect.cvar.peakDetectCntrl.lowerThreshold2 = 0.1\n",
      "    tRange = arange(0,200.0,1)\n",
      "    # pLoss = 0.5 - 0.001*tRange*sin(2*pi*4*tRange/200.0)\n",
      "    pLoss = 0.5 + 0.3*exp(-0.5*((tRange-70.0)/10)**2) + 0.5*exp(-0.5*((tRange-120.0)/10)**2)\n",
      "    background = []\n",
      "    state = []\n",
      "    cond0, cond1, cond2, cond3 = [], [], [], []\n",
      "    for i,pl in enumerate(pLoss):\n",
      "        peakDetect.cvar.peakDetectCntrl.processedLoss = pl\n",
      "        peakDetect.peakDetectCntrlStep()\n",
      "        background.append(peakDetect.cvar.peakDetectCntrl.background)\n",
      "        state.append(peakDetect.cvar.peakDetectCntrl.state)\n",
      "        cond0.append(peakDetect.cvar.peakDetectCntrl.cond0)\n",
      "        cond1.append(peakDetect.cvar.peakDetectCntrl.cond1)\n",
      "        cond2.append(peakDetect.cvar.peakDetectCntrl.cond2)\n",
      "        cond3.append(peakDetect.cvar.peakDetectCntrl.cond3)\n",
      "    background = asarray(background)\n",
      "    state = asarray(state)\n",
      "    cond0 = asarray(cond0)\n",
      "    cond1 = asarray(cond1)\n",
      "    cond2 = asarray(cond2)\n",
      "    cond3 = asarray(cond3)\n",
      "    figure()\n",
      "    ax1 = subplot(2,1,1); plot(tRange, pLoss, tRange, background)\n",
      "    grid(True)\n",
      "    ax2 = subplot(2,1,2,sharex=ax1); plot(tRange, 0.5*cond0, tRange, 1+0.5*cond1, tRange, 2+0.5*cond2, tRange, 3+0.5*cond3, tRange, 4+state)\n",
      "    grid(True)\n",
      "    \n",
      "    peakDetect.cvar.peakDetectCntrl.state = peakDetect.PEAK_DETECT_CNTRL_IdleState\n",
      "    for i in range(10):\n",
      "        peakDetect.peakDetectCntrlStep()\n"
     ],
     "language": "python",
     "metadata": {},
     "outputs": [],
     "prompt_number": 27
    },
    {
     "cell_type": "code",
     "collapsed": false,
     "input": [],
     "language": "python",
     "metadata": {},
     "outputs": [],
     "prompt_number": 3
    }
   ],
   "metadata": {}
  }
 ]
}