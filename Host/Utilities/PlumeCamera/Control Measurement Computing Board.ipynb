{
 "metadata": {
  "name": "Control Measurement Computing Board"
 },
 "nbformat": 3,
 "nbformat_minor": 0,
 "worksheets": [
  {
   "cells": [
    {
     "cell_type": "code",
     "collapsed": false,
     "input": [
      "try:\n",
      "    import json\n",
      "except:\n",
      "    import simplejson as json\n",
      "import time\n",
      "import zmq\n",
      "\n",
      "MCC_CMD_PORT = 5201\n",
      "context = zmq.Context()\n",
      "\n",
      "cmdSocket = context.socket(zmq.REQ)\n",
      "cmdSocket.connect(\"tcp://127.0.0.1:%d\" % MCC_CMD_PORT)\n",
      "\n",
      "cmdSocket.send(json.dumps({\"func\":\"setDigitalPortA\", \"args\":[255]}))\n",
      "print json.loads(cmdSocket.recv())\n",
      "time.sleep(1.0)\n",
      "cmdSocket.send(json.dumps({\"func\":\"setDigitalPortA\", \"args\":[0]}))\n",
      "print json.loads(cmdSocket.recv())\n",
      "\n",
      "cmdSocket.close()\n",
      "context.term()"
     ],
     "language": "python",
     "metadata": {},
     "outputs": [
      {
       "output_type": "stream",
       "stream": "stdout",
       "text": [
        "{u'name': u'setDigitalPortA', u'result': u'OK'}\n",
        "{u'name': u'setDigitalPortA', u'result': u'OK'}"
       ]
      },
      {
       "output_type": "stream",
       "stream": "stdout",
       "text": [
        "\n"
       ]
      }
     ],
     "prompt_number": 61
    }
   ],
   "metadata": {}
  }
 ]
}