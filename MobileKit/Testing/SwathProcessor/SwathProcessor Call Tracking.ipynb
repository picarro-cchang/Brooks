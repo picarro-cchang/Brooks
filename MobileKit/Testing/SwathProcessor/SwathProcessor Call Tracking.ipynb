{
 "metadata": {
  "name": "SwathProcessor Call Tracking"
 },
 "nbformat": 3,
 "nbformat_minor": 0,
 "worksheets": [
  {
   "cells": [
    {
     "cell_type": "markdown",
     "metadata": {},
     "source": [
      "This notebook investigates how the swath processor is called during processing of a minimal data log file"
     ]
    },
    {
     "cell_type": "markdown",
     "metadata": {},
     "source": [
      "The function `z = ltqnorm(p)` gives for a probability $p$ the value of a normalized random variate $z$ such that $\\mathrm{Pr}(Z < z) = p$, i.e.,\n",
      "$$p = \\int_{-\\infty}^z \\frac{1}{\\sqrt{2\\pi}}\\exp\\left(-\\frac{t^2}{2}\\right)\\;\\mathrm{d}t$$"
     ]
    },
    {
     "cell_type": "code",
     "collapsed": false,
     "input": [
      "import MobileKit.AnalyzerServer.SwathProcessor as sp\n",
      "\n",
      "pList = linspace(0.0,1.0,100)[1:-1]\n",
      "qList = [sp.ltqnorm(p) for p in pList]\n",
      "plot(pList,qList)\n",
      "grid()"
     ],
     "language": "python",
     "metadata": {},
     "outputs": [
      {
       "output_type": "display_data",
       "png": "[encoded data removed]"
      }
     ],
     "prompt_number": 13
    },
    {
     "cell_type": "markdown",
     "metadata": {},
     "source": [
      "The definition of the error function is \n",
      "$$\\mathrm{erf}(z) =\\frac{2}{\\sqrt\\pi}\\int_0^z \\exp(-t^2)\\;\\mathrm{d}t$$"
     ]
    },
    {
     "cell_type": "code",
     "collapsed": false,
     "input": [
      "from scipy.special import erf\n",
      "\n",
      "z = linspace(-4,4,1001)\n",
      "p = erf(z/sqrt(2))\n",
      "plot(z,p)\n",
      "grid()"
     ],
     "language": "python",
     "metadata": {},
     "outputs": [
      {
       "output_type": "display_data",
       "png": "[encoded data removed]"
      }
     ],
     "prompt_number": 14
    },
    {
     "cell_type": "code",
     "collapsed": false,
     "input": [
      "%%file myfunc.py\n",
      "import os.path\n",
      "def getssh(): # pseudo application code\n",
      "    return os.path.join(os.path.expanduser(\"~admin\"), '.ssh')\n",
      "\n",
      "def func():\n",
      "    return \"Real function\"\n",
      "\n",
      "def target():\n",
      "    return func()\n",
      "\n",
      "def test_mytest(monkeypatch):\n",
      "    def mockreturn(path):\n",
      "        return '/abc'\n",
      "    monkeypatch.setattr(os.path, 'expanduser', mockreturn)\n",
      "    x = getssh()\n",
      "    assert x == '/abc\\\\.ssh'\n",
      "    \n",
      "def test_target(monkeypatch):\n",
      "    monkeypatch.setitem(globals(),'target',lambda: 'Mock function')\n",
      "    assert target() == \"Mock function\"\n",
      "    monkeypatch.undo()\n",
      "    assert target() == \"Real function\"\n"
     ],
     "language": "python",
     "metadata": {},
     "outputs": [
      {
       "output_type": "stream",
       "stream": "stdout",
       "text": [
        "Overwriting myfunc.py\n"
       ]
      }
     ],
     "prompt_number": 15
    },
    {
     "cell_type": "code",
     "collapsed": false,
     "input": [
      "!py.test myfunc.py"
     ],
     "language": "python",
     "metadata": {},
     "outputs": [
      {
       "output_type": "stream",
       "stream": "stdout",
       "text": [
        "============================= test session starts ==============================\n",
        "platform win32 -- Python 2.7.2 -- pytest-2.2.4\n",
        "collecting ... collected 2 items\n",
        "\n",
        "myfunc.py ..\n",
        "\n",
        "=========================== 2 passed in 0.03 seconds ===========================\n"
       ]
      }
     ],
     "prompt_number": 16
    },
    {
     "cell_type": "code",
     "collapsed": false,
     "input": [
      "notset = object()\n",
      "\t \n",
      "class MonkeyPatch:\n",
      "    def __init__(self):\n",
      "        self._setattr = []\n",
      "        self._setitem = []\n",
      "\n",
      "    def setattr(self, obj, name, value):\n",
      "        self._setattr.insert(0, (obj, name, getattr(obj, name, notset)))\n",
      "        setattr(obj, name, value)\n",
      " \n",
      "    def setitem(self, dictionary, name, value):\n",
      "        self._setitem.insert(0, (dictionary, name, dictionary.get(name, notset)))\n",
      "        dictionary[name] = value\n",
      " \n",
      "    def finalize(self):\n",
      "        for obj, name, value in self._setattr:\n",
      "            if value is not notset:\n",
      "                setattr(obj, name, value)\n",
      "            else:\n",
      "                delattr(obj, name)\n",
      "        for dictionary, name, value in self._setitem:\n",
      "            if value is notset:\n",
      "                del dictionary[name]\n",
      "            else:\n",
      "                dictionary[name] = value\n",
      "\t \n",
      "def func():\n",
      "    return \"Real function\"\n",
      "\n",
      "def target():\n",
      "    return func()\n",
      "\n",
      "if __name__ == \"__main__\":\n",
      "    print target()\n",
      "    monkeypatch = MonkeyPatch()\n",
      "    monkeypatch.setitem(globals(), 'func', lambda:\"Mock function\")\n",
      "    print target()\n",
      "    monkeypatch.finalize()\n",
      "    print target()"
     ],
     "language": "python",
     "metadata": {},
     "outputs": [
      {
       "output_type": "stream",
       "stream": "stdout",
       "text": [
        "Real function\n",
        "Mock function\n",
        "Real function\n"
       ]
      }
     ],
     "prompt_number": 17
    },
    {
     "cell_type": "markdown",
     "metadata": {},
     "source": [
      "* Test swath processor using data from Davis in `FDDS2012-20120730-195201Z-DataLog_User_Minimal.dat` from `p3.picarro.com/demo`.\n",
      "* There are 790 lines in the file.\n",
      "* The in-car server `analyzerServer.py` has been modified to have a variable `debugSwath` which, when True, saves input and output parameters to the swath processor in a pickled file."
     ]
    },
    {
     "cell_type": "code",
     "collapsed": false,
     "input": [
      "import cPickle\n",
      "fp = open(\"c:/temp/swathDump.dat\",\"rb\")\n",
      "while True:\n",
      "    d = cPickle.load(fp)\n",
      "    print len(d['inArgs']['source']), len(d['outArgs']['EPOCH_TIME']), {x:d['inArgs'][x] for x in d['inArgs'] if x != 'source'}\n",
      "fp.close()"
     ],
     "language": "python",
     "metadata": {},
     "outputs": [
      {
       "output_type": "stream",
       "stream": "stdout",
       "text": [
        "20 0 {'astdParams': {'a': 0.47123889803846897, 'c': 0.0, 'b': 0.25}, 'stabClass': u'F', 'maxWindow': 10, 'minLeak': 1.0, 'minAmpl': 0.05}\n",
        "20 0 {'astdParams': {'a': 0.47123889803846897, 'c': 0.0, 'b': 0.25}, 'stabClass': u'F', 'maxWindow': 10, 'minLeak': 1.0, 'minAmpl': 0.05}\n",
        "790 770 {'astdParams': {'a': 0.47123889803846897, 'c': 0.0, 'b': 0.25}, 'stabClass': u'F', 'maxWindow': 10, 'minLeak': 1.0, 'minAmpl': 0.05}\n",
        "20 0 {'astdParams': {'a': 0.47123889803846897, 'c': 0.0, 'b': 0.25}, 'stabClass': u'F', 'maxWindow': 10, 'minLeak': 1.0, 'minAmpl': 0.05}\n",
        "20 0 {'astdParams': {'a': 0.47123889803846897, 'c': 0.0, 'b': 0.25}, 'stabClass': u'F', 'maxWindow': 10, 'minLeak': 1.0, 'minAmpl': 0.05}\n",
        "20 0 {'astdParams': {'a': 0.47123889803846897, 'c': 0.0, 'b': 0.25}, 'stabClass': u'F', 'maxWindow': 10, 'minLeak': 1.0, 'minAmpl': 0.05}\n",
        "790"
       ]
      },
      {
       "output_type": "stream",
       "stream": "stdout",
       "text": [
        " 770 {'astdParams': {'a': 0.47123889803846897, 'c': 0.0, 'b': 0.25}, 'stabClass': u'*', 'maxWindow': 10, 'minLeak': 1.0, 'minAmpl': 0.05}\n",
        "20 0 {'astdParams': {'a': 0.47123889803846897, 'c': 0.0, 'b': 0.25}, 'stabClass': u'F', 'maxWindow': 10, 'minLeak': 1.0, 'minAmpl': 0.05}\n",
        "20 0 {'astdParams': {'a': 0.47123889803846897, 'c': 0.0, 'b': 0.25}, 'stabClass': u'*', 'maxWindow': 10, 'minLeak': 1.0, 'minAmpl': 0.05}\n",
        "790 770 {'astdParams': {'a': 0.47123889803846897, 'c': 0.0, 'b': 0.25}, 'stabClass': u'*', 'maxWindow': 10, 'minLeak': 1.0, 'minAmpl': 0.05}\n",
        "20 0 {'astdParams': {'a': 0.47123889803846897, 'c': 0.0, 'b': 0.25}, 'stabClass': u'*', 'maxWindow': 10, 'minLeak': 1.0, 'minAmpl': 0.05}\n",
        "20 0 {'astdParams': {'a': 0.47123889803846897, 'c': 0.0, 'b': 0.25}, 'stabClass': u'F', 'maxWindow': 10, 'minLeak': 1.0, 'minAmpl': 0.05}\n",
        "790 770 {'astdParams': {'a': 0.47123889803846897, 'c': 0.0, 'b': 0.25}, 'stabClass': u'*', 'maxWindow': 10, 'minLeak': 1.0, 'minAmpl': 0.05}\n",
        "20 0 {'astdParams': {'a': 0.47123889803846897, 'c': 0.0, 'b': 0.25}, 'stabClass': u'*', 'maxWindow': 10, 'minLeak': 1.0, 'minAmpl': 0.05}\n",
        "20 0 {'astdParams': {'a': 0.47123889803846897, 'c': 0.0, 'b': 0.25}, 'stabClass': u'*', 'maxWindow': 10, 'minLeak': 1.0, 'minAmpl': 0.05}\n",
        "20 0 {'astdParams': {'a': 0.47123889803846897, 'c': 0.0, 'b': 0.25}, 'stabClass': u'*', 'maxWindow': 10, 'minLeak': 1.0, 'minAmpl': 0.05}\n",
        "20"
       ]
      },
      {
       "output_type": "stream",
       "stream": "stdout",
       "text": [
        " 0 {'astdParams': {'a': 0.47123889803846897, 'c': 0.0, 'b': 0.25}, 'stabClass': u'F', 'maxWindow': 10, 'minLeak': 1.0, 'minAmpl': 0.05}\n",
        "20 0 {'astdParams': {'a': 0.47123889803846897, 'c': 0.0, 'b': 0.25}, 'stabClass': u'F', 'maxWindow': 10, 'minLeak': 1.0, 'minAmpl': 0.05}\n",
        "20 0 {'astdParams': {'a': 0.47123889803846897, 'c': 0.0, 'b': 0.25}, 'stabClass': u'F', 'maxWindow': 10, 'minLeak': 1.0, 'minAmpl': 0.05}\n",
        "20 0 {'astdParams': {'a': 0.47123889803846897, 'c': 0.0, 'b': 0.25}, 'stabClass': u'*', 'maxWindow': 10, 'minLeak': 1.0, 'minAmpl': 0.05}\n",
        "20 0 {'astdParams': {'a': 0.47123889803846897, 'c': 0.0, 'b': 0.25}, 'stabClass': u'F', 'maxWindow': 10, 'minLeak': 1.0, 'minAmpl': 0.05}\n",
        "20 0 {'astdParams': {'a': 0.47123889803846897, 'c': 0.0, 'b': 0.25}, 'stabClass': u'F', 'maxWindow': 10, 'minLeak': 1.0, 'minAmpl': 0.05}\n",
        "20 0 {'astdParams': {'a': 0.47123889803846897, 'c': 0.0, 'b': 0.25}, 'stabClass': u'F', 'maxWindow': 10, 'minLeak': 1.0, 'minAmpl': 0.05}\n",
        "20 0 {'astdParams': {'a': 0.47123889803846897, 'c': 0.0, 'b': 0.25}, 'stabClass': u'F', 'maxWindow': 10, 'minLeak': 1.0, 'minAmpl': 0.05}\n",
        "20 0 {'astdParams': {'a': 0.47123889803846897, 'c': 0.0, 'b': 0.25}, 'stabClass': u'F', 'maxWindow': 10, 'minLeak': 1.0, 'minAmpl': 0.05}\n",
        "20 0 {'astdParams': {'a': 0.47123889803846897, 'c': 0.0, 'b': 0.25}, 'stabClass': u'F', 'maxWindow': 10, 'minLeak': 1.0, 'minAmpl': 0.05}\n",
        "20 0 {'astdParams': {'a': 0.47123889803846897, 'c': 0.0, 'b': 0.25}, 'stabClass': u'*', 'maxWindow': 10, 'minLeak': 1.0, 'minAmpl': 0.05}\n",
        "20 0 {'astdParams': {'a': 0.47123889803846897, 'c': 0.0, 'b': 0.25}, 'stabClass': u'F', 'maxWindow': 10, 'minLeak': 1.0, 'minAmpl': 0.05}\n",
        "20 0 {'astdParams': {'a': 0.47123889803846897, 'c': 0.0, 'b': 0.25}, 'stabClass': u'*', 'maxWindow': 10, 'minLeak': 1.0, 'minAmpl': 0.05}\n",
        "20 0 {'astdParams': {'a': 0.47123889803846897, 'c': 0.0, 'b': 0.25}, 'stabClass': u'F', 'maxWindow': 10, 'minLeak': 1.0, 'minAmpl': 0.05}\n",
        "20 0 {'astdParams': {'a': 0.47123889803846897, 'c': 0.0, 'b': 0.25}, 'stabClass': u'F', 'maxWindow': 10, 'minLeak': 1.0, 'minAmpl': 0.05}\n",
        "20 0 {'astdParams': {'a': 0.47123889803846897, 'c': 0.0, 'b': 0.25}, 'stabClass': u'F', 'maxWindow': 10, 'minLeak': 1.0, 'minAmpl': 0.05}\n",
        "20 0 {'astdParams': {'a': 0.47123889803846897, 'c': 0.0, 'b': 0.25}, 'stabClass': u'F', 'maxWindow': 10, 'minLeak': 1.0, 'minAmpl': 0.05}\n",
        "20 0 {'astdParams': {'a': 0.47123889803846897, 'c': 0.0, 'b': 0.25}, 'stabClass': u'F', 'maxWindow': 10, 'minLeak': 1.0, 'minAmpl': 0.05}\n",
        "20 0 {'astdParams': {'a': 0.47123889803846897, 'c': 0.0, 'b': 0.25}, 'stabClass': u'F', 'maxWindow': 10, 'minLeak': 1.0, 'minAmpl': 0.05}\n",
        "20 0 {'astdParams': {'a': 0.47123889803846897, 'c': 0.0, 'b': 0.25}, 'stabClass': u'F', 'maxWindow': 10, 'minLeak': 1.0, 'minAmpl': 0.05}\n",
        "20 0 {'astdParams': {'a': 0.47123889803846897, 'c': 0.0, 'b': 0.25}, 'stabClass': u'F', 'maxWindow': 10, 'minLeak': 1.0, 'minAmpl': 0.05}\n",
        "20 0 {'astdParams': {'a': 0.47123889803846897, 'c': 0.0, 'b': 0.25}, 'stabClass': u'F', 'maxWindow': 10, 'minLeak': 1.0, 'minAmpl': 0.05}\n",
        "20 0 {'astdParams': {'a': 0.47123889803846897, 'c': 0.0, 'b': 0.25}, 'stabClass': u'*', 'maxWindow': 10, 'minLeak': 1.0, 'minAmpl': 0.05}\n",
        "20 0 {'astdParams': {'a': 0.47123889803846897, 'c': 0.0, 'b': 0.25}, 'stabClass': u'*', 'maxWindow': 10, 'minLeak': 1.0, 'minAmpl': 0.05}\n",
        "20 0 {'astdParams': {'a': 0.47123889803846897, 'c': 0.0, 'b': 0.25}, 'stabClass': u'F', 'maxWindow': 10, 'minLeak': 1.0, 'minAmpl': 0.05}\n",
        "20 0 {'astdParams': {'a': 0.47123889803846897, 'c': 0.0, 'b': 0.25}, 'stabClass': u'F', 'maxWindow': 10, 'minLeak': 1.0, 'minAmpl': 0.05}\n",
        "20 0 {'astdParams': {'a': 0.47123889803846897, 'c': 0.0, 'b': 0.25}, 'stabClass': u'F', 'maxWindow': 10, 'minLeak': 1.0, 'minAmpl': 0.05}\n",
        "20 0 {'astdParams': {'a': 0.47123889803846897, 'c': 0.0, 'b': 0.25}, 'stabClass': u'F', 'maxWindow': 10, 'minLeak': 1.0, 'minAmpl': 0.05}\n",
        "20 0 {'astdParams': {'a': 0.47123889803846897, 'c': 0.0, 'b': 0.25}, 'stabClass': u'F', 'maxWindow': 10, 'minLeak': 1.0, 'minAmpl': 0.05}\n",
        "20 0 {'astdParams': {'a': 0.47123889803846897, 'c': 0.0, 'b': 0.25}, 'stabClass': u'F', 'maxWindow': 10, 'minLeak': 1.0, 'minAmpl': 0.05}\n",
        "20 0 {'astdParams': {'a': 0.47123889803846897, 'c': 0.0, 'b': 0.25}, 'stabClass': u'F', 'maxWindow': 10, 'minLeak': 1.0, 'minAmpl': 0.05}\n",
        "20 0 {'astdParams': {'a': 0.47123889803846897, 'c': 0.0, 'b': 0.25}, 'stabClass': u'*', 'maxWindow': 10, 'minLeak': 1.0, 'minAmpl': 0.05}\n",
        "20 0 {'astdParams': {'a': 0.47123889803846897, 'c': 0.0, 'b': 0.25}, 'stabClass': u'F', 'maxWindow': 10, 'minLeak': 1.0, 'minAmpl': 0.05}\n",
        "20 0 {'astdParams': {'a': 0.47123889803846897, 'c': 0.0, 'b': 0.25}, 'stabClass': u'F', 'maxWindow': 10, 'minLeak': 1.0, 'minAmpl': 0.05}\n",
        "20 0 {'astdParams': {'a': 0.47123889803846897, 'c': 0.0, 'b': 0.25}, 'stabClass': u'F', 'maxWindow': 10, 'minLeak': 1.0, 'minAmpl': 0.05}\n",
        "20 0 {'astdParams': {'a': 0.47123889803846897, 'c': 0.0, 'b': 0.25}, 'stabClass': u'F', 'maxWindow': 10, 'minLeak': 1.0, 'minAmpl': 0.05}\n",
        "790"
       ]
      },
      {
       "output_type": "stream",
       "stream": "stdout",
       "text": [
        " 770 {'astdParams': {'a': 0.47123889803846897, 'c': 0.0, 'b': 0.25}, 'stabClass': u'*', 'maxWindow': 10, 'minLeak': 1.0, 'minAmpl': 0.05}\n",
        "20 0 {'astdParams': {'a': 0.47123889803846897, 'c': 0.0, 'b': 0.25}, 'stabClass': u'*', 'maxWindow': 10, 'minLeak': 1.0, 'minAmpl': 0.05}\n",
        "20 0 {'astdParams': {'a': 0.47123889803846897, 'c': 0.0, 'b': 0.25}, 'stabClass': u'*', 'maxWindow': 10, 'minLeak': 1.0, 'minAmpl': 0.05}\n",
        "790 770 {'astdParams': {'a': 0.47123889803846897, 'c': 0.0, 'b': 0.25}, 'stabClass': u'F', 'maxWindow': 10, 'minLeak': 1.0, 'minAmpl': 0.05}\n",
        "20 0 {'astdParams': {'a': 0.47123889803846897, 'c': 0.0, 'b': 0.25}, 'stabClass': u'F', 'maxWindow': 10, 'minLeak': 1.0, 'minAmpl': 0.05}\n",
        "790 770 {'astdParams': {'a': 0.47123889803846897, 'c': 0.0, 'b': 0.25}, 'stabClass': u'*', 'maxWindow': 10, 'minLeak': 1.0, 'minAmpl': 0.05}\n",
        "20 0 {'astdParams': {'a': 0.47123889803846897, 'c': 0.0, 'b': 0.25}, 'stabClass': u'*', 'maxWindow': 10, 'minLeak': 1.0, 'minAmpl': 0.05}\n",
        "20 0 {'astdParams': {'a': 0.47123889803846897, 'c': 0.0, 'b': 0.25}, 'stabClass': u'*', 'maxWindow': 10, 'minLeak': 1.0, 'minAmpl': 0.05}\n",
        "20 0 {'astdParams': {'a': 0.47123889803846897, 'c': 0.0, 'b': 0.25}, 'stabClass': u'*', 'maxWindow': 10, 'minLeak': 1.0, 'minAmpl': 0.05}\n",
        "20 0 {'astdParams': {'a': 0.47123889803846897, 'c': 0.0, 'b': 0.25}, 'stabClass': u'*', 'maxWindow': 10, 'minLeak': 1.0, 'minAmpl': 0.05}\n",
        "790"
       ]
      },
      {
       "output_type": "stream",
       "stream": "stdout",
       "text": [
        " 770 {'astdParams': {'a': 0.47123889803846897, 'c': 0.0, 'b': 0.25}, 'stabClass': u'E', 'maxWindow': 10, 'minLeak': 1.0, 'minAmpl': 0.05}\n",
        "20 0 {'astdParams': {'a': 0.47123889803846897, 'c': 0.0, 'b': 0.25}, 'stabClass': u'E', 'maxWindow': 10, 'minLeak': 1.0, 'minAmpl': 0.05}\n",
        "20 0 {'astdParams': {'a': 0.47123889803846897, 'c': 0.0, 'b': 0.25}, 'stabClass': u'E', 'maxWindow': 10, 'minLeak': 1.0, 'minAmpl': 0.05}\n",
        "790 770 {'astdParams': {'a': 0.47123889803846897, 'c': 0.0, 'b': 0.25}, 'stabClass': u'*', 'maxWindow': 10, 'minLeak': 1.0, 'minAmpl': 0.05}\n",
        "20 0 {'astdParams': {'a': 0.47123889803846897, 'c': 0.0, 'b': 0.25}, 'stabClass': u'*', 'maxWindow': 10, 'minLeak': 1.0, 'minAmpl': 0.05}\n",
        "20 0 {'astdParams': {'a': 0.47123889803846897, 'c': 0.0, 'b': 0.25}, 'stabClass': u'*', 'maxWindow': 10, 'minLeak': 1.0, 'minAmpl': 0.05}\n",
        "20 0 {'astdParams': {'a': 0.47123889803846897, 'c': 0.0, 'b': 0.25}, 'stabClass': u'*', 'maxWindow': 10, 'minLeak': 1.0, 'minAmpl': 0.05}\n",
        "20 0 {'astdParams': {'a': 0.47123889803846897, 'c': 0.0, 'b': 0.25}, 'stabClass': u'*', 'maxWindow': 10, 'minLeak': 1.0, 'minAmpl': 0.05}\n",
        "20 0 {'astdParams': {'a': 0.47123889803846897, 'c': 0.0, 'b': 0.25}, 'stabClass': u'*', 'maxWindow': 10, 'minLeak': 1.0, 'minAmpl': 0.05}\n",
        "20 0 {'astdParams': {'a': 0.47123889803846897, 'c': 0.0, 'b': 0.25}, 'stabClass': u'*', 'maxWindow': 10, 'minLeak': 1.0, 'minAmpl': 0.05}\n",
        "20 0 {'astdParams': {'a': 0.47123889803846897, 'c': 0.0, 'b': 0.25}, 'stabClass': u'*', 'maxWindow': 10, 'minLeak': 1.0, 'minAmpl': 0.05}\n",
        "20 0 {'astdParams': {'a': 0.47123889803846897, 'c': 0.0, 'b': 0.25}, 'stabClass': u'*', 'maxWindow': 10, 'minLeak': 1.0, 'minAmpl': 0.05}\n",
        "20 0 {'astdParams': {'a': 0.47123889803846897, 'c': 0.0, 'b': 0.25}, 'stabClass': u'*', 'maxWindow': 10, 'minLeak': 1.0, 'minAmpl': 0.05}\n",
        "20 0 {'astdParams': {'a': 0.47123889803846897, 'c': 0.0, 'b': 0.25}, 'stabClass': u'*', 'maxWindow': 10, 'minLeak': 1.0, 'minAmpl': 0.05}\n",
        "20 0 {'astdParams': {'a': 0.47123889803846897, 'c': 0.0, 'b': 0.25}, 'stabClass': u'*', 'maxWindow': 10, 'minLeak': 1.0, 'minAmpl': 0.05}\n",
        "20 0 {'astdParams': {'a': 0.47123889803846897, 'c': 0.0, 'b': 0.25}, 'stabClass': u'*', 'maxWindow': 10, 'minLeak': 1.0, 'minAmpl': 0.05}\n",
        "20 0 {'astdParams': {'a': 0.47123889803846897, 'c': 0.0, 'b': 0.25}, 'stabClass': u'*', 'maxWindow': 10, 'minLeak': 1.0, 'minAmpl': 0.05}\n",
        "790"
       ]
      },
      {
       "output_type": "stream",
       "stream": "stdout",
       "text": [
        " 770 {'astdParams': {'a': 0.47123889803846897, 'c': 0.0, 'b': 0.25}, 'stabClass': u'B', 'maxWindow': 10, 'minLeak': 1.0, 'minAmpl': 0.05}\n",
        "20 0 {'astdParams': {'a': 0.47123889803846897, 'c': 0.0, 'b': 0.25}, 'stabClass': u'B', 'maxWindow': 10, 'minLeak': 1.0, 'minAmpl': 0.05}\n",
        "790 770 {'astdParams': {'a': 0.47123889803846897, 'c': 0.0, 'b': 0.25}, 'stabClass': u'*', 'maxWindow': 10, 'minLeak': 1.0, 'minAmpl': 0.05}\n",
        "20 0 {'astdParams': {'a': 0.47123889803846897, 'c': 0.0, 'b': 0.25}, 'stabClass': u'*', 'maxWindow': 10, 'minLeak': 1.0, 'minAmpl': 0.05}\n",
        "20 0 {'astdParams': {'a': 0.47123889803846897, 'c': 0.0, 'b': 0.25}, 'stabClass': u'*', 'maxWindow': 10, 'minLeak': 1.0, 'minAmpl': 0.05}\n",
        "20 0 {'astdParams': {'a': 0.47123889803846897, 'c': 0.0, 'b': 0.25}, 'stabClass': u'*', 'maxWindow': 10, 'minLeak': 1.0, 'minAmpl': 0.05}\n",
        "790 770 {'astdParams': {'a': 0.47123889803846897, 'c': 0.0, 'b': 0.25}, 'stabClass': u'A', 'maxWindow': 10, 'minLeak': 1.0, 'minAmpl': 0.05}\n",
        "20 0 {'astdParams': {'a': 0.47123889803846897, 'c': 0.0, 'b': 0.25}, 'stabClass': u'A', 'maxWindow': 10, 'minLeak': 1.0, 'minAmpl': 0.05}\n",
        "20 0 {'astdParams': {'a': 0.47123889803846897, 'c': 0.0, 'b': 0.25}, 'stabClass': u'A', 'maxWindow': 10, 'minLeak': 1.0, 'minAmpl': 0.05}\n",
        "790"
       ]
      },
      {
       "output_type": "stream",
       "stream": "stdout",
       "text": [
        " 770 {'astdParams': {'a': 0.47123889803846897, 'c': 0.0, 'b': 0.25}, 'stabClass': u'*', 'maxWindow': 10, 'minLeak': 1.0, 'minAmpl': 0.05}\n",
        "20 0 {'astdParams': {'a': 0.47123889803846897, 'c': 0.0, 'b': 0.25}, 'stabClass': u'*', 'maxWindow': 10, 'minLeak': 1.0, 'minAmpl': 0.05}\n",
        "20 0 {'astdParams': {'a': 0.47123889803846897, 'c': 0.0, 'b': 0.25}, 'stabClass': u'*', 'maxWindow': 10, 'minLeak': 1.0, 'minAmpl': 0.05}\n",
        "20 0 {'astdParams': {'a': 0.47123889803846897, 'c': 0.0, 'b': 0.25}, 'stabClass': u'*', 'maxWindow': 10, 'minLeak': 1.0, 'minAmpl': 0.05}\n",
        "20 0 {'astdParams': {'a': 0.47123889803846897, 'c': 0.0, 'b': 0.25}, 'stabClass': u'*', 'maxWindow': 10, 'minLeak': 1.0, 'minAmpl': 0.05}\n",
        "20 0 {'astdParams': {'a': 0.47123889803846897, 'c': 0.0, 'b': 0.25}, 'stabClass': u'*', 'maxWindow': 10, 'minLeak': 1.0, 'minAmpl': 0.05}\n",
        "20 0 {'astdParams': {'a': 0.47123889803846897, 'c': 0.0, 'b': 0.25}, 'stabClass': u'*', 'maxWindow': 10, 'minLeak': 1.0, 'minAmpl': 0.05}\n",
        "20 0 {'astdParams': {'a': 0.47123889803846897, 'c': 0.0, 'b': 0.25}, 'stabClass': u'*', 'maxWindow': 10, 'minLeak': 1.0, 'minAmpl': 0.05}\n",
        "20 0 {'astdParams': {'a': 0.47123889803846897, 'c': 0.0, 'b': 0.25}, 'stabClass': u'*', 'maxWindow': 10, 'minLeak': 1.0, 'minAmpl': 0.05}\n",
        "20 0 {'astdParams': {'a': 0.47123889803846897, 'c': 0.0, 'b': 0.25}, 'stabClass': u'*', 'maxWindow': 10, 'minLeak': 1.0, 'minAmpl': 0.05}\n",
        "20 0 {'astdParams': {'a': 0.47123889803846897, 'c': 0.0, 'b': 0.25}, 'stabClass': u'*', 'maxWindow': 10, 'minLeak': 1.0, 'minAmpl': 0.05}\n",
        "1019 999 {'astdParams': {'a': 0.47123889803846897, 'c': 0.0, 'b': 0.25}, 'stabClass': u'*', 'maxWindow': 10, 'minLeak': 1.0, 'minAmpl': 0.05}\n",
        "1019"
       ]
      },
      {
       "output_type": "stream",
       "stream": "stdout",
       "text": [
        " 999 {'astdParams': {'a': 0.47123889803846897, 'c': 0.0, 'b': 0.25}, 'stabClass': u'*', 'maxWindow': 10, 'minLeak': 1.0, 'minAmpl': 0.05}\n",
        "1019 999 {'astdParams': {'a': 0.47123889803846897, 'c': 0.0, 'b': 0.25}, 'stabClass': u'*', 'maxWindow': 10, 'minLeak': 1.0, 'minAmpl': 0.05}\n",
        "1019"
       ]
      },
      {
       "output_type": "stream",
       "stream": "stdout",
       "text": [
        " 999 {'astdParams': {'a': 0.47123889803846897, 'c': 0.0, 'b': 0.25}, 'stabClass': u'*', 'maxWindow': 10, 'minLeak': 1.0, 'minAmpl': 0.05}\n",
        "1019 999 {'astdParams': {'a': 0.47123889803846897, 'c': 0.0, 'b': 0.25}, 'stabClass': u'*', 'maxWindow': 10, 'minLeak': 1.0, 'minAmpl': 0.05}\n",
        "1019"
       ]
      },
      {
       "output_type": "stream",
       "stream": "stdout",
       "text": [
        " 999 {'astdParams': {'a': 0.47123889803846897, 'c': 0.0, 'b': 0.25}, 'stabClass': u'*', 'maxWindow': 10, 'minLeak': 1.0, 'minAmpl': 0.05}\n",
        "1019"
       ]
      },
      {
       "output_type": "stream",
       "stream": "stdout",
       "text": [
        " 999 {'astdParams': {'a': 0.47123889803846897, 'c': 0.0, 'b': 0.25}, 'stabClass': u'*', 'maxWindow': 10, 'minLeak': 1.0, 'minAmpl': 0.05}\n",
        "1019 999 {'astdParams': {'a': 0.47123889803846897, 'c': 0.0, 'b': 0.25}, 'stabClass': u'*', 'maxWindow': 10, 'minLeak': 1.0, 'minAmpl': 0.05}\n",
        "1019"
       ]
      },
      {
       "output_type": "stream",
       "stream": "stdout",
       "text": [
        " 999 {'astdParams': {'a': 0.47123889803846897, 'c': 0.0, 'b': 0.25}, 'stabClass': u'*', 'maxWindow': 10, 'minLeak': 1.0, 'minAmpl': 0.05}\n",
        "1019 999 {'astdParams': {'a': 0.47123889803846897, 'c': 0.0, 'b': 0.25}, 'stabClass': u'*', 'maxWindow': 10, 'minLeak': 1.0, 'minAmpl': 0.05}\n",
        "1019"
       ]
      },
      {
       "output_type": "stream",
       "stream": "stdout",
       "text": [
        " 999 {'astdParams': {'a': 0.47123889803846897, 'c': 0.0, 'b': 0.25}, 'stabClass': u'*', 'maxWindow': 10, 'minLeak': 1.0, 'minAmpl': 0.05}\n",
        "1019 999 {'astdParams': {'a': 0.47123889803846897, 'c': 0.0, 'b': 0.25}, 'stabClass': u'*', 'maxWindow': 10, 'minLeak': 1.0, 'minAmpl': 0.05}\n",
        "1019"
       ]
      },
      {
       "output_type": "stream",
       "stream": "stdout",
       "text": [
        " 999 {'astdParams': {'a': 0.47123889803846897, 'c': 0.0, 'b': 0.25}, 'stabClass': u'*', 'maxWindow': 10, 'minLeak': 1.0, 'minAmpl': 0.05}\n",
        "1019 999 {'astdParams': {'a': 0.47123889803846897, 'c': 0.0, 'b': 0.25}, 'stabClass': u'*', 'maxWindow': 10, 'minLeak': 1.0, 'minAmpl': 0.05}\n",
        "248 228 {'astdParams': {'a': 0.47123889803846897, 'c': 0.0, 'b': 0.25}, 'stabClass': u'*', 'maxWindow': 10, 'minLeak': 1.0, 'minAmpl': 0.05}\n",
        "20 0 {'astdParams': {'a': 0.47123889803846897, 'c': 0.0, 'b': 0.25}, 'stabClass': u'*', 'maxWindow': 10, 'minLeak': 1.0, 'minAmpl': 0.05}\n",
        "20 0 {'astdParams': {'a': 0.47123889803846897, 'c': 0.0, 'b': 0.25}, 'stabClass': u'*', 'maxWindow': 10, 'minLeak': 1.0, 'minAmpl': 0.05}\n",
        "20 0 {'astdParams': {'a': 0.47123889803846897, 'c': 0.0, 'b': 0.25}, 'stabClass': u'*', 'maxWindow': 10, 'minLeak': 1.0, 'minAmpl': 0.05}"
       ]
      },
      {
       "output_type": "stream",
       "stream": "stdout",
       "text": [
        "\n",
        "20 0 {'astdParams': {'a': 0.47123889803846897, 'c': 0.0, 'b': 0.25}, 'stabClass': u'*', 'maxWindow': 10, 'minLeak': 1.0, 'minAmpl': 0.05}\n",
        "20 0 {'astdParams': {'a': 0.47123889803846897, 'c': 0.0, 'b': 0.25}, 'stabClass': u'*', 'maxWindow': 10, 'minLeak': 1.0, 'minAmpl': 0.05}\n",
        "1019"
       ]
      },
      {
       "output_type": "stream",
       "stream": "stdout",
       "text": [
        " 999 {'astdParams': {'a': 0.47123889803846897, 'c': 0.0, 'b': 0.25}, 'stabClass': u'C', 'maxWindow': 10, 'minLeak': 1.0, 'minAmpl': 0.05}\n",
        "1019 999 {'astdParams': {'a': 0.47123889803846897, 'c': 0.0, 'b': 0.25}, 'stabClass': u'C', 'maxWindow': 10, 'minLeak': 1.0, 'minAmpl': 0.05}\n",
        "1019"
       ]
      },
      {
       "output_type": "stream",
       "stream": "stdout",
       "text": [
        " 999 {'astdParams': {'a': 0.47123889803846897, 'c': 0.0, 'b': 0.25}, 'stabClass': u'C', 'maxWindow': 10, 'minLeak': 1.0, 'minAmpl': 0.05}\n",
        "1019 999 {'astdParams': {'a': 0.47123889803846897, 'c': 0.0, 'b': 0.25}, 'stabClass': u'C', 'maxWindow': 10, 'minLeak': 1.0, 'minAmpl': 0.05}\n",
        "1019"
       ]
      },
      {
       "output_type": "stream",
       "stream": "stdout",
       "text": [
        " 999 {'astdParams': {'a': 0.47123889803846897, 'c': 0.0, 'b': 0.25}, 'stabClass': u'C', 'maxWindow': 10, 'minLeak': 1.0, 'minAmpl': 0.05}\n",
        "1019 999 {'astdParams': {'a': 0.47123889803846897, 'c': 0.0, 'b': 0.25}, 'stabClass': u'C', 'maxWindow': 10, 'minLeak': 1.0, 'minAmpl': 0.05}\n",
        "1019"
       ]
      },
      {
       "output_type": "stream",
       "stream": "stdout",
       "text": [
        " 999 {'astdParams': {'a': 0.47123889803846897, 'c': 0.0, 'b': 0.25}, 'stabClass': u'C', 'maxWindow': 10, 'minLeak': 1.0, 'minAmpl': 0.05}\n",
        "1019 999 {'astdParams': {'a': 0.47123889803846897, 'c': 0.0, 'b': 0.25}, 'stabClass': u'C', 'maxWindow': 10, 'minLeak': 1.0, 'minAmpl': 0.05}\n",
        "1019"
       ]
      },
      {
       "output_type": "stream",
       "stream": "stdout",
       "text": [
        " 999 {'astdParams': {'a': 0.47123889803846897, 'c': 0.0, 'b': 0.25}, 'stabClass': u'C', 'maxWindow': 10, 'minLeak': 1.0, 'minAmpl': 0.05}\n",
        "1019 999 {'astdParams': {'a': 0.47123889803846897, 'c': 0.0, 'b': 0.25}, 'stabClass': u'C', 'maxWindow': 10, 'minLeak': 1.0, 'minAmpl': 0.05}\n",
        "1019"
       ]
      },
      {
       "output_type": "stream",
       "stream": "stdout",
       "text": [
        " 999 {'astdParams': {'a': 0.47123889803846897, 'c': 0.0, 'b': 0.25}, 'stabClass': u'C', 'maxWindow': 10, 'minLeak': 1.0, 'minAmpl': 0.05}\n",
        "1019 999 {'astdParams': {'a': 0.47123889803846897, 'c': 0.0, 'b': 0.25}, 'stabClass': u'C', 'maxWindow': 10, 'minLeak': 1.0, 'minAmpl': 0.05}\n",
        "1019"
       ]
      },
      {
       "ename": "EOFError",
       "evalue": "",
       "output_type": "pyerr",
       "traceback": [
        "\u001b[1;31m---------------------------------------------------------------------------\u001b[0m\n\u001b[1;31mEOFError\u001b[0m                                  Traceback (most recent call last)",
        "\u001b[1;32m<ipython-input-53-73748b886b2e>\u001b[0m in \u001b[0;36m<module>\u001b[1;34m()\u001b[0m\n\u001b[0;32m      2\u001b[0m \u001b[0mfp\u001b[0m \u001b[1;33m=\u001b[0m \u001b[0mopen\u001b[0m\u001b[1;33m(\u001b[0m\u001b[1;34m\"c:/temp/swathDump.dat\"\u001b[0m\u001b[1;33m,\u001b[0m\u001b[1;34m\"rb\"\u001b[0m\u001b[1;33m)\u001b[0m\u001b[1;33m\u001b[0m\u001b[0m\n\u001b[0;32m      3\u001b[0m \u001b[1;32mwhile\u001b[0m \u001b[0mTrue\u001b[0m\u001b[1;33m:\u001b[0m\u001b[1;33m\u001b[0m\u001b[0m\n\u001b[1;32m----> 4\u001b[1;33m     \u001b[0md\u001b[0m \u001b[1;33m=\u001b[0m \u001b[0mcPickle\u001b[0m\u001b[1;33m.\u001b[0m\u001b[0mload\u001b[0m\u001b[1;33m(\u001b[0m\u001b[0mfp\u001b[0m\u001b[1;33m)\u001b[0m\u001b[1;33m\u001b[0m\u001b[0m\n\u001b[0m\u001b[0;32m      5\u001b[0m     \u001b[1;32mprint\u001b[0m \u001b[0mlen\u001b[0m\u001b[1;33m(\u001b[0m\u001b[0md\u001b[0m\u001b[1;33m[\u001b[0m\u001b[1;34m'inArgs'\u001b[0m\u001b[1;33m]\u001b[0m\u001b[1;33m[\u001b[0m\u001b[1;34m'source'\u001b[0m\u001b[1;33m]\u001b[0m\u001b[1;33m)\u001b[0m\u001b[1;33m,\u001b[0m \u001b[0mlen\u001b[0m\u001b[1;33m(\u001b[0m\u001b[0md\u001b[0m\u001b[1;33m[\u001b[0m\u001b[1;34m'outArgs'\u001b[0m\u001b[1;33m]\u001b[0m\u001b[1;33m[\u001b[0m\u001b[1;34m'EPOCH_TIME'\u001b[0m\u001b[1;33m]\u001b[0m\u001b[1;33m)\u001b[0m\u001b[1;33m,\u001b[0m \u001b[1;33m{\u001b[0m\u001b[0mx\u001b[0m\u001b[1;33m:\u001b[0m\u001b[0md\u001b[0m\u001b[1;33m[\u001b[0m\u001b[1;34m'inArgs'\u001b[0m\u001b[1;33m]\u001b[0m\u001b[1;33m[\u001b[0m\u001b[0mx\u001b[0m\u001b[1;33m]\u001b[0m \u001b[1;32mfor\u001b[0m \u001b[0mx\u001b[0m \u001b[1;32min\u001b[0m \u001b[0md\u001b[0m\u001b[1;33m[\u001b[0m\u001b[1;34m'inArgs'\u001b[0m\u001b[1;33m]\u001b[0m \u001b[1;32mif\u001b[0m \u001b[0mx\u001b[0m \u001b[1;33m!=\u001b[0m \u001b[1;34m'source'\u001b[0m\u001b[1;33m}\u001b[0m\u001b[1;33m\u001b[0m\u001b[0m\n\u001b[0;32m      6\u001b[0m \u001b[0mfp\u001b[0m\u001b[1;33m.\u001b[0m\u001b[0mclose\u001b[0m\u001b[1;33m(\u001b[0m\u001b[1;33m)\u001b[0m\u001b[1;33m\u001b[0m\u001b[0m\n",
        "\u001b[1;31mEOFError\u001b[0m: "
       ]
      },
      {
       "output_type": "stream",
       "stream": "stdout",
       "text": [
        " 999 {'astdParams': {'a': 0.47123889803846897, 'c': 0.0, 'b': 0.25}, 'stabClass': u'C', 'maxWindow': 10, 'minLeak': 1.0, 'minAmpl': 0.05}\n",
        "1019 999 {'astdParams': {'a': 0.47123889803846897, 'c': 0.0, 'b': 0.25}, 'stabClass': u'C', 'maxWindow': 10, 'minLeak': 1.0, 'minAmpl': 0.05}\n",
        "248 228 {'astdParams': {'a': 0.47123889803846897, 'c': 0.0, 'b': 0.25}, 'stabClass': u'C', 'maxWindow': 10, 'minLeak': 1.0, 'minAmpl': 0.05}\n",
        "20 0 {'astdParams': {'a': 0.47123889803846897, 'c': 0.0, 'b': 0.25}, 'stabClass': u'C', 'maxWindow': 10, 'minLeak': 1.0, 'minAmpl': 0.05}\n",
        "20 0 {'astdParams': {'a': 0.47123889803846897, 'c': 0.0, 'b': 0.25}, 'stabClass': u'C', 'maxWindow': 10, 'minLeak': 1.0, 'minAmpl': 0.05}\n",
        "20 0 {'astdParams': {'a': 0.47123889803846897, 'c': 0.0, 'b': 0.25}, 'stabClass': u'C', 'maxWindow': 10, 'minLeak': 1.0, 'minAmpl': 0.05}\n",
        "20 0 {'astdParams': {'a': 0.47123889803846897, 'c': 0.0, 'b': 0.25}, 'stabClass': u'C', 'maxWindow': 10, 'minLeak': 1.0, 'minAmpl': 0.05}\n",
        "20 0 {'astdParams': {'a': 0.47123889803846897, 'c': 0.0, 'b': 0.25}, 'stabClass': u'C', 'maxWindow': 10, 'minLeak': 1.0, 'minAmpl': 0.05}\n",
        "20 0 {'astdParams': {'a': 0.47123889803846897, 'c': 0.0, 'b': 0.25}, 'stabClass': u'C', 'maxWindow': 10, 'minLeak': 1.0, 'minAmpl': 0.05}\n",
        "20 0 {'astdParams': {'a': 0.47123889803846897, 'c': 0.0, 'b': 0.25}, 'stabClass': u'C', 'maxWindow': 10, 'minLeak': 1.0, 'minAmpl': 0.05}\n",
        "20 0 {'astdParams': {'a': 0.47123889803846897, 'c': 0.0, 'b': 0.25}, 'stabClass': u'C', 'maxWindow': 10, 'minLeak': 1.0, 'minAmpl': 0.05}\n"
       ]
      }
     ],
     "prompt_number": 53
    },
    {
     "cell_type": "code",
     "collapsed": false,
     "input": [
      "import cPickle\n",
      "fp = open(\"c:/temp/swathDump.dat\",\"rb\")\n",
      "while True:\n",
      "    try:\n",
      "        d = cPickle.load(fp)\n",
      "        print d['timestamp'],len(d['inArgs']['source']),d['inArgs']['source'][0]['row'],len(d['outArgs']['EPOCH_TIME'])\n",
      "    except:\n",
      "        break\n",
      "fp.close()\n"
     ],
     "language": "python",
     "metadata": {},
     "outputs": [
      {
       "output_type": "stream",
       "stream": "stdout",
       "text": [
        "1344486907.8 20 771.0 0\n",
        "1344486909.32 20 771.0 0\n",
        "1344486914.11 790 1.0 770\n",
        "1344486915.58 20 771.0 0\n",
        "1344486916.1 20 771.0 0\n",
        "1344486919.75 20 771.0 0\n",
        "1344486922.9"
       ]
      },
      {
       "output_type": "stream",
       "stream": "stdout",
       "text": [
        " 790 1.0 770\n",
        "1344486925.43 20 771.0 0\n",
        "1344486925.44 20 771.0 0\n",
        "1344486938.62 790 1.0 770\n",
        "1344486939.84 20 771.0 0\n",
        "1344486943.74 20 771.0 0\n",
        "1344486953.19 790 1.0 770\n",
        "1344486954.74 20 771.0 0\n",
        "1344486958.88 20 771.0 0\n",
        "1344486960.89 20 771.0 0\n",
        "1344486973.42 20 771.0 0\n",
        "1344486978.83 20 771.0 0\n",
        "1344486982.18 20 771.0 0\n",
        "1344486982.2 20 771.0 0\n",
        "1344486983.19 20 771.0 0\n",
        "1344486984.84 20 771.0 0\n",
        "1344486988.2 20 771.0 0\n",
        "1344486999.06 20 771.0 0\n",
        "1344487011.18"
       ]
      },
      {
       "output_type": "stream",
       "stream": "stdout",
       "text": [
        " 20 771.0 0\n",
        "1344487039.27 20 771.0 0\n",
        "1344487045.46 20 771.0 0\n",
        "1344487045.84 20 771.0 0\n",
        "1344487049.48 20 771.0 0\n",
        "1344487051.88 20 771.0 0\n",
        "1344487055.43 20 771.0 0\n",
        "1344487055.94 20 771.0 0\n",
        "1344487058.45 20 771.0 0\n",
        "1344487060.45 20 771.0 0\n",
        "1344487064.96 20 771.0 0\n",
        "1344487066.47 20 771.0 0\n",
        "1344487069.89 20 771.0 0\n",
        "1344487078.55 20 771.0 0\n",
        "1344487080.86 20 771.0 0\n",
        "1344487081.93 20 771.0 0\n",
        "1344487082.07 20 771.0 0\n",
        "1344487084.54 20 771.0 0\n",
        "1344487087.93 20 771.0 0\n",
        "1344487090.59 20 771.0 0\n",
        "1344487094.88 20 771.0 0\n",
        "1344487108.64 20 771.0 0\n",
        "1344487127.31 20 771.0 0\n",
        "1344487131.01 20 771.0 0\n",
        "1344487131.01 20 771.0 0\n",
        "1344487137.0 20 771.0 0\n",
        "1344487145.55 20 771.0 0\n",
        "1344487149.06 20 771.0 0\n",
        "1344487156.19 790 1.0 770\n",
        "1344487158.29 20 771.0 0\n",
        "1344487160.7 20 771.0 0\n",
        "1344487165.39"
       ]
      },
      {
       "output_type": "stream",
       "stream": "stdout",
       "text": [
        " 790 1.0 770\n",
        "1344487167.54 20 771.0 0\n",
        "1344487174.77 790 1.0 770\n",
        "1344487175.97 20 771.0 0\n",
        "1344487189.09 20 771.0 0\n",
        "1344487192.12 20 771.0 0\n",
        "1344487193.94 20 771.0 0\n",
        "1344487198.52 790 1.0 770\n",
        "1344487200.37"
       ]
      },
      {
       "output_type": "stream",
       "stream": "stdout",
       "text": [
        " 20 771.0 0\n",
        "1344487203.39 20 771.0 0\n",
        "1344487208.55 790 1.0 770\n",
        "1344487209.73 20 771.0 0\n",
        "1344487210.25 20 771.0 0\n",
        "1344487210.73 20 771.0 0\n",
        "1344487216.96 20 771.0 0\n",
        "1344487226.0 20 771.0 0\n",
        "1344487228.57 20 771.0 0\n",
        "1344487272.58 20 771.0 0\n",
        "1344487274.16 20 771.0 0\n",
        "1344487279.9 20 771.0 0\n",
        "1344487280.73 20 771.0 0\n",
        "1344487289.29 20 771.0 0\n",
        "1344487292.01 20 771.0 0\n",
        "1344487295.37 20 771.0 0\n",
        "1344487313.14 790 1.0 770\n",
        "1344487315.11 20 771.0 0\n",
        "1344487320.19"
       ]
      },
      {
       "output_type": "stream",
       "stream": "stdout",
       "text": [
        " 790 1.0 770\n",
        "1344487321.37 20 771.0 0\n",
        "1344487322.38 20 771.0 0\n",
        "1344487327.29 20 771.0 0\n",
        "1344487342.46 790 1.0 770\n",
        "1344487343.65 20 771.0 0\n",
        "1344487344.17 20 771.0 0\n",
        "1344487352.99 790 1.0 770\n",
        "1344487354.53 20 771.0 0\n",
        "1344487367.1 20 771.0 0\n",
        "1344487392.64 20 771.0 0\n",
        "1344487394.38 20 771.0 0\n",
        "1344487416.43 20 771.0 0\n",
        "1344487417.53 20 771.0 0\n",
        "1344487419.66"
       ]
      },
      {
       "output_type": "stream",
       "stream": "stdout",
       "text": [
        " 20 771.0 0\n",
        "1344487436.81 20 771.0 0\n",
        "1344487439.0 20 771.0 0\n",
        "1344487441.23 20 771.0 0\n",
        "1344487505.3 1019 1.0 999\n",
        "1344487509.3 1019 1001.0 999\n",
        "1344487514.01"
       ]
      },
      {
       "output_type": "stream",
       "stream": "stdout",
       "text": [
        " 1019 2001.0 999\n",
        "1344487519.46 1019 3001.0 999\n",
        "1344487522.28"
       ]
      },
      {
       "output_type": "stream",
       "stream": "stdout",
       "text": [
        " 1019 4001.0 999\n",
        "1344487525.84 1019 5001.0 999\n",
        "1344487529.33"
       ]
      },
      {
       "output_type": "stream",
       "stream": "stdout",
       "text": [
        " 1019 6001.0 999\n",
        "1344487534.67 1019 7001.0 999\n",
        "1344487537.71"
       ]
      },
      {
       "output_type": "stream",
       "stream": "stdout",
       "text": [
        " 1019 8001.0 999\n",
        "1344487540.7 1019 9001.0 999\n",
        "1344487544.41"
       ]
      },
      {
       "output_type": "stream",
       "stream": "stdout",
       "text": [
        " 1019 10001.0 999\n",
        "1344487546.35 1019 11001.0 999\n",
        "1344487547.88"
       ]
      },
      {
       "output_type": "stream",
       "stream": "stdout",
       "text": [
        " 1019 12001.0 999\n",
        "1344487550.48 1019 13001.0 999\n",
        "1344487555.49 248 14001.0 228\n",
        "1344487557.23 20 14229.0 0\n",
        "1344487564.43 20 14229.0 0\n",
        "1344487566.55 20 14229.0 0\n",
        "1344487577.67 20 14229.0 0\n",
        "1344487580.5 20 14229.0 0\n",
        "1344487589.62"
       ]
      },
      {
       "output_type": "stream",
       "stream": "stdout",
       "text": [
        " 1019 1.0 999\n",
        "1344487593.01 1019 1001.0 999\n",
        "1344487596.08"
       ]
      },
      {
       "output_type": "stream",
       "stream": "stdout",
       "text": [
        " 1019 2001.0 999\n",
        "1344487598.72 1019 3001.0 999\n",
        "1344487601.82"
       ]
      },
      {
       "output_type": "stream",
       "stream": "stdout",
       "text": [
        " 1019 4001.0 999\n",
        "1344487604.17 1019 5001.0 999\n",
        "1344487606.56"
       ]
      },
      {
       "output_type": "stream",
       "stream": "stdout",
       "text": [
        " 1019 6001.0 999\n",
        "1344487609.38 1019 7001.0 999\n",
        "1344487611.74"
       ]
      },
      {
       "output_type": "stream",
       "stream": "stdout",
       "text": [
        " 1019 8001.0 999\n",
        "1344487613.75 1019 9001.0 999\n",
        "1344487616.01"
       ]
      },
      {
       "output_type": "stream",
       "stream": "stdout",
       "text": [
        " 1019 10001.0 999\n",
        "1344487617.28 1019 11001.0 999\n",
        "1344487619.22"
       ]
      },
      {
       "output_type": "stream",
       "stream": "stdout",
       "text": [
        " 1019 12001.0 999\n",
        "1344487621.38 1019 13001.0 999\n",
        "1344487622.91 248 14001.0 228\n",
        "1344487623.46 20 14229.0 0\n",
        "1344487649.05 20 14229.0 0\n",
        "1344487670.65 20 14229.0 0\n",
        "1344487692.18 20 14229.0 0\n",
        "1344487693.69 20 14229.0 0\n",
        "1344487696.82 20 14229.0 0\n",
        "1344487717.41 20 14229.0 0\n",
        "1344487721.93 20 14229.0 0\n",
        "1344487728.06 20 14229.0 0\n",
        "1344487733.83 20 14229.0 0\n",
        "1344487741.89 20 14229.0 0\n"
       ]
      }
     ],
     "prompt_number": 54
    },
    {
     "cell_type": "markdown",
     "metadata": {},
     "source": [
      "For some reason, we are asked to evaluate the entire swath twice. Furthermore, we get indefinite requests for 20 point calculations.\n",
      "\n",
      "CSTATE.startPos = 790\n",
      "CSTATE.swathLine = 781"
     ]
    },
    {
     "cell_type": "code",
     "collapsed": false,
     "input": [
      "import time\n",
      "time.localtime(1344480499.8)"
     ],
     "language": "python",
     "metadata": {},
     "outputs": [
      {
       "output_type": "pyout",
       "prompt_number": 35,
       "text": [
        "time.struct_time(tm_year=2012, tm_mon=8, tm_mday=8, tm_hour=19, tm_min=48, tm_sec=19, tm_wday=2, tm_yday=221, tm_isdst=1)"
       ]
      }
     ],
     "prompt_number": 35
    },
    {
     "cell_type": "code",
     "collapsed": false,
     "input": [],
     "language": "python",
     "metadata": {},
     "outputs": []
    }
   ],
   "metadata": {}
  }
 ]
}