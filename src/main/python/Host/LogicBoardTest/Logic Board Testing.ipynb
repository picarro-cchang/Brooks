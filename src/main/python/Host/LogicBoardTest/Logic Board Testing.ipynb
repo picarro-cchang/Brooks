{
 "metadata": {
  "name": "Logic Board Testing"
 },
 "nbformat": 3,
 "nbformat_minor": 0,
 "worksheets": [
  {
   "cells": [
    {
     "cell_type": "markdown",
     "metadata": {},
     "source": [
      "## Logic Board Testing\n",
      "\n",
      "`BoardTest1.ini` specifies path to executables"
     ]
    },
    {
     "cell_type": "code",
     "collapsed": false,
     "input": [
      "import time\n",
      "from Host.LogicBoardTest import BoardTest1 as bt\n",
      "SDRAM_BASE = 0x80000000\n",
      "OFFSET = 0x1000000\n",
      "configFile = \"BoardTest1.ini\"\n",
      "d = bt.BoardTest1(configFile)\n",
      "v = True # Verbosity level\n",
      "d.initLb(v)\n",
      "d.checkMagicCode(v)\n",
      "numBytes = 65536\n",
      "# Each memory location is aliased into 16 positions due to the\n",
      "#  address decoding hardware. We test that the block can be read back\n",
      "#  at any of them\n",
      "numIter = 16\n",
      "start = time.clock()\n",
      "for iter in range(numIter):\n",
      "    d.testBlockUsb(numBytes,SDRAM_BASE,iter*OFFSET)\n",
      "stop = time.clock()\n",
      "print \"Time per byte\", (stop-start)/(numIter*numBytes)"
     ],
     "language": "python",
     "metadata": {},
     "outputs": [
      {
       "output_type": "stream",
       "stream": "stdout",
       "text": [
        "Detected a programmed Picarro USB interface\n",
        "USB enumerated at high speed\n",
        "Holding DSP in reset while programming FPGA\n",
        "Fpga status: 1\n",
        "FPGA programming done"
       ]
      },
      {
       "output_type": "stream",
       "stream": "stdout",
       "text": [
        "\n",
        "Bytes sent: 402936\n",
        "Time to load FPGA: 4.4s\n",
        "Removed DSP reset, allowing EDMA access to DSP memory space"
       ]
      },
      {
       "output_type": "stream",
       "stream": "stdout",
       "text": [
        "\n",
        "Magic code: c0de0001\n",
        "Time per byte"
       ]
      },
      {
       "output_type": "stream",
       "stream": "stdout",
       "text": [
        " 1.8428532331e-06\n"
       ]
      }
     ],
     "prompt_number": 11
    },
    {
     "cell_type": "code",
     "collapsed": false,
     "input": [
      "\"%d\" % 0x1000000"
     ],
     "language": "python",
     "metadata": {},
     "outputs": [
      {
       "output_type": "pyout",
       "prompt_number": 12,
       "text": [
        "'16777216'"
       ]
      }
     ],
     "prompt_number": 12
    },
    {
     "cell_type": "code",
     "collapsed": false,
     "input": [
      "%%prun\n",
      "numBytes = 65536\n",
      "# Each memory location is aliased into 16 positions due to the\n",
      "#  address decoding hardware. We test that the block can be read back\n",
      "#  at any of them\n",
      "numIter = 16\n",
      "start = time.clock()\n",
      "for iter in range(numIter):\n",
      "    d.testBlockUsb(numBytes,SDRAM_BASE)\n",
      "stop = time.clock()\n",
      "print \"Time per byte\", (stop-start)/(numIter*numBytes)"
     ],
     "language": "python",
     "metadata": {},
     "outputs": [
      {
       "output_type": "stream",
       "stream": "stdout",
       "text": [
        "Time per byte 1.89712870075e-06\n",
        "\n"
       ]
      }
     ],
     "prompt_number": 13
    },
    {
     "cell_type": "markdown",
     "metadata": {},
     "source": [
      "### Profiler Output\n",
      "<code>\n",
      "         35265 function calls in 1.885 seconds\n",
      "\n",
      "   Ordered by: internal time\n",
      "\n",
      "   ncalls  tottime  percall  cumtime  percall filename:lineno(function)\n",
      "     3072    0.802    0.000    0.803    0.000 analyzerUsbIf.py:98(controlOutTransaction)\n",
      "     2048    0.449    0.000    0.450    0.000 analyzerUsbIf.py:258(_hpidWrite)\n",
      "       16    0.402    0.025    1.885    0.118 BoardTest1.py:441(testBlockUsb)\n",
      "      512    0.140    0.000    0.261    0.001 analyzerUsbIf.py:286(_hpidRead)\n",
      "       16    0.026    0.002    1.057    0.066 analyzerUsbIf.py:262(hpiWrite)\n",
      "     5120    0.017    0.000    1.420    0.000 analyzerUsbIf.py:129(_claimInterfaceWrapper)\n",
      "     2560    0.010    0.000    0.692    0.000 analyzerUsbIf.py:245(_hpiaWrite)\n",
      "     2048    0.008    0.000    0.465    0.000 analyzerUsbIf.py:253(hpidWrite)\n",
      "     2528    0.008    0.000    0.008    0.000 {time.sleep}\n",
      "       16    0.007    0.000    0.421    0.026 analyzerUsbIf.py:292(hpiRead)\n",
      "     2560    0.005    0.000    0.706    0.000 analyzerUsbIf.py:243(hpiaWrite)\n",
      "</code>\n"
     ]
    },
    {
     "cell_type": "markdown",
     "metadata": {},
     "source": [
      "## Loading DSP Code\n",
      "\n",
      "We can now load the DSP code and send a DSPINT to start execution. It is possible to read memory locations (including the FPGA) without any intervention on the part of the DSP since this is all done by the EDMA controller. In particular, the registers \"NOOP_REGISTER\" and \"VERIFY_INIT_REGISTER\" are useful for checking that the DSP is alive, since they are filled with recognizable constants."
     ]
    },
    {
     "cell_type": "code",
     "collapsed": false,
     "input": [
      "d.loadDspCode(d.dspFile)"
     ],
     "language": "python",
     "metadata": {},
     "outputs": [],
     "prompt_number": 14
    },
    {
     "cell_type": "code",
     "collapsed": false,
     "input": [
      "print \"%x\" % d.sender.rdRegUint(\"NOOP_REGISTER\")\n",
      "print \"%x\" % d.sender.rdRegUint(\"VERIFY_INIT_REGISTER\")"
     ],
     "language": "python",
     "metadata": {},
     "outputs": [
      {
       "output_type": "stream",
       "stream": "stdout",
       "text": [
        "abcd1234\n",
        "19680511\n"
       ]
      }
     ],
     "prompt_number": 15
    },
    {
     "cell_type": "code",
     "collapsed": false,
     "input": [
      "import time\n",
      "from Host.LogicBoardTest import BoardTest2 as bt\n",
      "SDRAM_BASE = 0x80000000\n",
      "OFFSET = 0x1000000\n",
      "configFile = \"BoardTest1.ini\"\n",
      "d = bt.BoardTest2(configFile)\n",
      "v = True # Verbosity level\n",
      "d.initLb(v)\n",
      "d.checkMagicCode(v)\n",
      "d.loadDspCode(d.dspFile)"
     ],
     "language": "python",
     "metadata": {},
     "outputs": [
      {
       "output_type": "stream",
       "stream": "stdout",
       "text": [
        "Detected a programmed Picarro USB interface\n",
        "USB enumerated at high speed\n",
        "Holding DSP in reset while programming FPGA\n",
        "Fpga status: 1\n",
        "FPGA programming done"
       ]
      },
      {
       "output_type": "stream",
       "stream": "stdout",
       "text": [
        "\n",
        "Bytes sent: 402936\n",
        "Time to load FPGA: 4.1s\n",
        "Removed DSP reset, allowing EDMA access to DSP memory space"
       ]
      },
      {
       "output_type": "stream",
       "stream": "stdout",
       "text": [
        "\n",
        "Magic code: c0de0001\n"
       ]
      }
     ],
     "prompt_number": 16
    },
    {
     "cell_type": "code",
     "collapsed": false,
     "input": [
      "from ctypes import c_uint\n",
      "# Offsets are in units of 32-bit words, not bytes\n",
      "offset = bt.lookup(\"NEXT_AVAILABLE_OFFSET\")\n",
      "data = (c_uint*8)(1,2,3,4,5,6,7,8)\n",
      "d.sender.wrBlock(offset,*data)\n",
      "print d.sender.rdBlock(offset,8)"
     ],
     "language": "python",
     "metadata": {},
     "outputs": [
      {
       "output_type": "stream",
       "stream": "stdout",
       "text": [
        "[1L, 2L, 3L, 4L, 5L, 6L, 7L, 8L]\n"
       ]
      }
     ],
     "prompt_number": 17
    },
    {
     "cell_type": "code",
     "collapsed": false,
     "input": [
      "from ctypes import c_uint, c_char, addressof\n",
      "nbytes = 1000\n",
      "assert nbytes%4 == 0\n",
      "nint = nbytes//4\n",
      "Block = c_char * nbytes\n",
      "UBlock = c_uint * nint"
     ],
     "language": "python",
     "metadata": {},
     "outputs": [],
     "prompt_number": 18
    },
    {
     "cell_type": "code",
     "collapsed": false,
     "input": [
      "%%prun\n",
      "nIter = 64\n",
      "start = time.clock()\n",
      "for i in range(nIter):\n",
      "    orig = np.random.bytes(nbytes)\n",
      "    bdata = Block(*orig)\n",
      "    data = UBlock.from_address(addressof(bdata))\n",
      "    offset = bt.lookup(\"NEXT_AVAILABLE_OFFSET\")\n",
      "    d.sender.wrBlock(offset,*data)\n",
      "    result = d.sender.rdBlock(offset,nint)\n",
      "    assert list(data) == result\n",
      "stop = time.clock()\n",
      "print \"Processing time per byte: \", (stop-start)/(nIter*nbytes)\n",
      "print stop-start, nIter, nbytes"
     ],
     "language": "python",
     "metadata": {},
     "outputs": [
      {
       "output_type": "stream",
       "stream": "stdout",
       "text": [
        "Processing time per byte:  1.13870986728e-05\n",
        "0.728774315061 64 1000\n",
        "\n"
       ]
      }
     ],
     "prompt_number": 21
    },
    {
     "cell_type": "markdown",
     "metadata": {},
     "source": [
      "Times for reading and writing one byte via USB\n",
      "\n",
      "    * blockSize = 1024,  time = 21.9us\n",
      "    * blockSize = 16384, time = 21.3us\n",
      "    * blockSize = 65536, time = 20.6us\n",
      "\n",
      "This does not change very much if we remove the code for random number generation and testing. It is thus dominated by the code that sends and receives the data."
     ]
    }
   ],
   "metadata": {}
  }
 ]
}