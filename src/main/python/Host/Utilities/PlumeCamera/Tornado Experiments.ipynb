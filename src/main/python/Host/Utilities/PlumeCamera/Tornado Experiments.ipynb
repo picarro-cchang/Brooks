{
 "metadata": {
  "name": "Tornado Experiments"
 },
 "nbformat": 3,
 "nbformat_minor": 0,
 "worksheets": [
  {
   "cells": [
    {
     "cell_type": "code",
     "collapsed": false,
     "input": [
      "%%file ex1.py\n",
      "\n",
      "# Canonical Hello, world example\n",
      "\n",
      "import tornado.ioloop\n",
      "import tornado.web\n",
      "\n",
      "class MainHandler(tornado.web.RequestHandler):\n",
      "    def get(self):\n",
      "        self.write(\"Hello, world\")\n",
      "\n",
      "application = tornado.web.Application([(r\"/\", MainHandler)])\n",
      "\n",
      "if __name__ == \"__main__\":\n",
      "    application.listen(7777)\n",
      "    tornado.ioloop.IOLoop.instance().start()"
     ],
     "language": "python",
     "metadata": {},
     "outputs": [
      {
       "output_type": "stream",
       "stream": "stdout",
       "text": [
        "Overwriting ex1.py\n"
       ]
      }
     ],
     "prompt_number": 5
    },
    {
     "cell_type": "code",
     "collapsed": false,
     "input": [
      "import subprocess\n",
      "import urllib\n",
      "import urllib2\n",
      "\n",
      "proc = subprocess.Popen([\"python.exe\",\"ex1.py\"])\n",
      "\n",
      "qry_url = 'http://localhost:7777/'\n",
      "resp = urllib2.urlopen(qry_url)\n",
      "info = resp.info()\n",
      "rtn_data = resp.read()\n",
      "print rtn_data\n",
      "\n",
      "proc.kill()\n",
      "proc.wait()"
     ],
     "language": "python",
     "metadata": {},
     "outputs": [
      {
       "output_type": "stream",
       "stream": "stdout",
       "text": [
        "Hello, world\n"
       ]
      },
      {
       "output_type": "pyout",
       "prompt_number": 6,
       "text": [
        "1"
       ]
      }
     ],
     "prompt_number": 6
    },
    {
     "cell_type": "markdown",
     "metadata": {},
     "source": [
      "## Request handlers and request arguments\n",
      "\n",
      "A Tornado web application maps URLs or URL patterns to subclasses of `tornado.web.RequestHandler`. Those classes define `get()` or `post()` methods to handle HTTP GET or POST requests to that URL.\n",
      "\n",
      "Regular expressions may be used in the definition of the URL. Regular expression groups are passed as an arguments to the `RequestHandler` methods."
     ]
    },
    {
     "cell_type": "code",
     "collapsed": false,
     "input": [
      "%%file ex2.py\n",
      "import tornado.ioloop\n",
      "import tornado.web\n",
      "\n",
      "class MainHandler(tornado.web.RequestHandler):\n",
      "    def get(self):\n",
      "        self.write(\"You requested the main page\")\n",
      "\n",
      "class StoryHandler(tornado.web.RequestHandler):\n",
      "    def get(self, story_id):\n",
      "        self.write(\"You requested story \" + story_id)\n",
      "\n",
      "application = tornado.web.Application([\n",
      "    (r\"/\", MainHandler),\n",
      "    (r\"/story/([0-9]+)\", StoryHandler),\n",
      "])\n",
      "\n",
      "if __name__ == \"__main__\":\n",
      "    application.listen(7777)\n",
      "    tornado.ioloop.IOLoop.instance().start()"
     ],
     "language": "python",
     "metadata": {},
     "outputs": [
      {
       "output_type": "stream",
       "stream": "stdout",
       "text": [
        "Overwriting ex2.py\n"
       ]
      }
     ],
     "prompt_number": 11
    },
    {
     "cell_type": "code",
     "collapsed": false,
     "input": [
      "import subprocess\n",
      "import urllib\n",
      "import urllib2\n",
      "\n",
      "proc = subprocess.Popen([\"python.exe\",\"ex2.py\"])\n",
      "\n",
      "qry_url = 'http://localhost:7777/'\n",
      "resp = urllib2.urlopen(qry_url, )\n",
      "info = resp.info()\n",
      "rtn_data = resp.read()\n",
      "print rtn_data\n",
      "\n",
      "qry_url = 'http://localhost:7777/story/25'\n",
      "resp = urllib2.urlopen(qry_url, )\n",
      "info = resp.info()\n",
      "rtn_data = resp.read()\n",
      "print rtn_data\n",
      "\n",
      "proc.kill()\n",
      "proc.wait()"
     ],
     "language": "python",
     "metadata": {},
     "outputs": [
      {
       "output_type": "stream",
       "stream": "stdout",
       "text": [
        "You requested the main page\n",
        "You requested story 25\n"
       ]
      },
      {
       "output_type": "pyout",
       "prompt_number": 12,
       "text": [
        "1"
       ]
      }
     ],
     "prompt_number": 12
    },
    {
     "cell_type": "markdown",
     "metadata": {},
     "source": [
      "It is possible to get query string arguments with the `get_argument()` method. Note that on the client side, the arguments are encoded using `urllib.urlencode()`. Whether a `POST` or `GET` is issued depends on whether the encoded data is passed as an argument to `urllib2.urlopen()` or if it is appended to the URL following a `?`."
     ]
    },
    {
     "cell_type": "code",
     "collapsed": false,
     "input": [
      "%%file ex3.py\n",
      "import tornado.ioloop\n",
      "import tornado.web\n",
      "\n",
      "class MyFormHandler(tornado.web.RequestHandler):\n",
      "    def get(self):\n",
      "        self.write('<html><body><form action=\"/myform\" method=\"post\">'\n",
      "                   '<input type=\"text\" name=\"message\">'\n",
      "                   '<input type=\"submit\" value=\"Submit\">'\n",
      "                   '</form>'\n",
      "                   '<p>The argument sent was ' + self.get_argument(\"arg\") + '</p>'\n",
      "                   '</body></html>')\n",
      "\n",
      "    def post(self):\n",
      "        self.set_header(\"Content-Type\", \"text/plain\")\n",
      "        self.write(\"You wrote \" + self.get_argument(\"message\"))\n",
      "\n",
      "application = tornado.web.Application([\n",
      "    (r\"/myform\", MyFormHandler),\n",
      "])\n",
      "        \n",
      "if __name__ == \"__main__\":\n",
      "    application.listen(7777)\n",
      "    tornado.ioloop.IOLoop.instance().start()        "
     ],
     "language": "python",
     "metadata": {},
     "outputs": [
      {
       "output_type": "stream",
       "stream": "stdout",
       "text": [
        "Overwriting ex3.py\n"
       ]
      }
     ],
     "prompt_number": 19
    },
    {
     "cell_type": "code",
     "collapsed": false,
     "input": [
      "import subprocess\n",
      "import urllib\n",
      "import urllib2\n",
      "\n",
      "proc = subprocess.Popen([\"python.exe\",\"ex3.py\"])\n",
      "\n",
      "data = urllib.urlencode({\"arg\":\"an example\"})\n",
      "qry_url = 'http://localhost:7777/myform?%s' % data\n",
      "# Do a GET\n",
      "resp = urllib2.urlopen(qry_url)\n",
      "info = resp.info()\n",
      "rtn_data = resp.read()\n",
      "print rtn_data\n",
      "\n",
      "qryparms_obj = {\"message\": \"test message\"}\n",
      "data = urllib.urlencode(qryparms_obj)\n",
      "# Do a POST\n",
      "resp = urllib2.urlopen(qry_url,data=data)\n",
      "info = resp.info()\n",
      "rtn_data = resp.read()\n",
      "print rtn_data\n",
      "\n",
      "proc.kill()\n",
      "proc.wait()"
     ],
     "language": "python",
     "metadata": {},
     "outputs": [
      {
       "output_type": "stream",
       "stream": "stdout",
       "text": [
        "<html><body><form action=\"/myform\" method=\"post\"><input type=\"text\" name=\"message\"><input type=\"submit\" value=\"Submit\"></form><p>The argument sent was an example</p></body></html>\n",
        "You wrote test message\n"
       ]
      },
      {
       "output_type": "pyout",
       "prompt_number": 25,
       "text": [
        "1"
       ]
      }
     ],
     "prompt_number": 25
    },
    {
     "cell_type": "code",
     "collapsed": false,
     "input": [],
     "language": "python",
     "metadata": {},
     "outputs": []
    }
   ],
   "metadata": {}
  }
 ]
}